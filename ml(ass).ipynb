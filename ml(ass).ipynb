{
 "cells": [
  {
   "cell_type": "code",
   "execution_count": 3,
   "id": "68071d40-4fe5-40a8-93c6-0ba84ece5e7e",
   "metadata": {},
   "outputs": [
    {
     "name": "stdin",
     "output_type": "stream",
     "text": [
      "Enter numbers:  12 34 56\n"
     ]
    },
    {
     "name": "stdout",
     "output_type": "stream",
     "text": [
      "[12.0, 34.0, 56.0]\n"
     ]
    }
   ],
   "source": [
    "import numpy as np  #1st Question \n",
    "numbers = input(\"Enter numbers: \")\n",
    "numbers = [float(x) if x.lower() != 'none' else None for x in numbers.split()]\n",
    "numbers = np.array(numbers, dtype=float)\n",
    "mean_value = np.nanmean(numbers)\n",
    "numbers = np.where(np.isnan(numbers), mean_value, numbers)\n",
    "print(numbers.tolist())"
   ]
  },
  {
   "cell_type": "code",
   "execution_count": 11,
   "id": "eea0b16c-fa6e-423d-b8d3-79d28e1b6f61",
   "metadata": {},
   "outputs": [
    {
     "name": "stdin",
     "output_type": "stream",
     "text": [
      "Enter numbers:  23 78 56 99 10 2\n"
     ]
    },
    {
     "name": "stdout",
     "output_type": "stream",
     "text": [
      "[0.21649484536082475, 0.7835051546391752, 0.5567010309278351, 1.0, 0.08247422680412371, 0.0]\n"
     ]
    }
   ],
   "source": [
    "def min_max_scaling(numbers):  #2nd Question\n",
    "    min_val = min(numbers)\n",
    "    max_val = max(numbers)\n",
    "    return [(x - min_val) / (max_val - min_val) for x in numbers]\n",
    "numbers = list(map(float, input(\"Enter numbers: \").split()))\n",
    "scaled_numbers = min_max_scaling(numbers)\n",
    "print(scaled_numbers)"
   ]
  },
  {
   "cell_type": "code",
   "execution_count": 17,
   "id": "b42fc30e-c607-4e53-ba11-199172bd0543",
   "metadata": {},
   "outputs": [
    {
     "name": "stdin",
     "output_type": "stream",
     "text": [
      "Enter numbers:  34 56 78\n",
      "Enter the threshold:  34\n"
     ]
    },
    {
     "name": "stdout",
     "output_type": "stream",
     "text": [
      "[1, 1, 1]\n"
     ]
    }
   ],
   "source": [
    "def binarize(numbers, threshold):   #3rd Question\n",
    "    return [1 if x >= threshold else 0 for x in numbers]\n",
    "numbers = list(map(float, input(\"Enter numbers: \").split()))\n",
    "threshold = float(input(\"Enter the threshold: \"))\n",
    "binarized_numbers = binarize(numbers, threshold)\n",
    "print(binarized_numbers)"
   ]
  },
  {
   "cell_type": "code",
   "execution_count": 19,
   "id": "e92d330e-284a-43f1-9e73-e0d145592f38",
   "metadata": {},
   "outputs": [
    {
     "name": "stdout",
     "output_type": "stream",
     "text": [
      "[5, 7, 9]\n"
     ]
    }
   ],
   "source": [
    "def f(x):   #4th Question\n",
    "    return 2 * x + 3\n",
    "def approximate(inputs):\n",
    "    return [f(x) for x in inputs]\n",
    "inputs = [1, 2, 3]\n",
    "outputs = approximate(inputs)\n",
    "print(outputs)"
   ]
  },
  {
   "cell_type": "code",
   "execution_count": 21,
   "id": "b7d21014-afd3-4307-9c06-d498c29894ef",
   "metadata": {},
   "outputs": [
    {
     "name": "stdin",
     "output_type": "stream",
     "text": [
      "Enter numbers:  45 56 67\n"
     ]
    },
    {
     "name": "stdout",
     "output_type": "stream",
     "text": [
      "Standardized numbers: [-1.224744871391589, 0.0, 1.224744871391589]\n"
     ]
    }
   ],
   "source": [
    "import math #5th Question\n",
    "def standardize(numbers):\n",
    "    mean = sum(numbers) / len(numbers)\n",
    "    stdev = math.sqrt(sum((x - mean) ** 2 for x in numbers) / len(numbers))\n",
    "    return [(x - mean) / stdev for x in numbers]\n",
    "user_input = input(\"Enter numbers: \")\n",
    "inputs = list(map(int, user_input.split()))\n",
    "standardized_numbers = standardize(inputs)\n",
    "print(f\"Standardized numbers: {standardized_numbers}\")"
   ]
  },
  {
   "cell_type": "code",
   "execution_count": 23,
   "id": "bcbb5049-7493-40fc-93c0-715a60fbaa5d",
   "metadata": {},
   "outputs": [
    {
     "name": "stdin",
     "output_type": "stream",
     "text": [
      "Enter data points separated by spaces:  11 22 33\n",
      "Enter labels corresponding to each data point:  1 2 3\n"
     ]
    },
    {
     "name": "stdout",
     "output_type": "stream",
     "text": [
      "{'1': [11], '2': [22], '3': [33]}\n"
     ]
    }
   ],
   "source": [
    "from collections import defaultdict #6th Question\n",
    "user_data = input(\"Enter data points separated by spaces: \")\n",
    "user_labels = input(\"Enter labels corresponding to each data point: \")\n",
    "data = list(map(int, user_data.split()))\n",
    "labels = user_labels.split()\n",
    "concept_representation = defaultdict(list)\n",
    "for point, label in zip(data, labels):\n",
    "    concept_representation[label].append(point)\n",
    "concept_representation = dict(concept_representation)\n",
    "print(concept_representation)\n"
   ]
  },
  {
   "cell_type": "code",
   "execution_count": 25,
   "id": "653c5de5-d15e-442b-bff5-621e47794300",
   "metadata": {},
   "outputs": [
    {
     "name": "stdout",
     "output_type": "stream",
     "text": [
      "Supervised Learning\n"
     ]
    }
   ],
   "source": [
    "def categorize_task(description): #7th Question\n",
    "    if \"predict\" in description.lower():\n",
    "        return \"Supervised Learning\"\n",
    "    else:\n",
    "        return \"Unsupervised Learning\"\n",
    "description = \"Predict the price of a house based on features like size, location, and age.\"\n",
    "category = categorize_task(description)\n",
    "print(category)"
   ]
  },
  {
   "cell_type": "code",
   "execution_count": 27,
   "id": "34b8a6f3-3d2c-464f-acc6-368245b9b6d6",
   "metadata": {},
   "outputs": [
    {
     "name": "stdin",
     "output_type": "stream",
     "text": [
      "Enter the machine learning task description:  33 44\n"
     ]
    },
    {
     "name": "stdout",
     "output_type": "stream",
     "text": [
      "Unsupervised Learning\n"
     ]
    }
   ],
   "source": [
    "def categorize_task(description):  #8th Question\n",
    "    if \"predict\" in description.lower():\n",
    "        return \"Supervised Learning\"\n",
    "    else:\n",
    "        return \"Unsupervised Learning\"\n",
    "description = input(\"Enter the machine learning task description: \")\n",
    "category = categorize_task(description)\n",
    "print(category)"
   ]
  },
  {
   "cell_type": "code",
   "execution_count": 29,
   "id": "daaa9b59-5966-4ed2-85db-08a82d79d282",
   "metadata": {},
   "outputs": [
    {
     "name": "stdin",
     "output_type": "stream",
     "text": [
      "Enter the slope (m):  3\n",
      "Enter the y-intercept (c):  21\n",
      "Enter the input value (x):  33\n"
     ]
    },
    {
     "name": "stdout",
     "output_type": "stream",
     "text": [
      "120.0\n"
     ]
    }
   ],
   "source": [
    "\n",
    "def predict_y(m, c, x): #9th Question\n",
    "    return m * x + c\n",
    "m = float(input(\"Enter the slope (m): \"))\n",
    "c = float(input(\"Enter the y-intercept (c): \"))\n",
    "x = float(input(\"Enter the input value (x): \"))\n",
    "y = predict_y(m, c, x)\n",
    "print(y)\n"
   ]
  },
  {
   "cell_type": "code",
   "execution_count": 31,
   "id": "7b169bbd-d1c2-4bb0-9d63-78a153c5b3d9",
   "metadata": {},
   "outputs": [
    {
     "name": "stdin",
     "output_type": "stream",
     "text": [
      "Enter numbers separated by spaces:  22 33 44\n"
     ]
    },
    {
     "name": "stdout",
     "output_type": "stream",
     "text": [
      "[22, 33, 44]\n"
     ]
    }
   ],
   "source": [
    "def remove_duplicates_and_sort(data): #10th Question\n",
    "    return sorted(set(data))\n",
    "user_input = input(\"Enter numbers separated by spaces: \")\n",
    "data = list(map(int, user_input.split()))\n",
    "result = remove_duplicates_and_sort(data)\n",
    "print(result)\n"
   ]
  },
  {
   "cell_type": "code",
   "execution_count": 36,
   "id": "eef1dd9c-53a5-4efd-ba6f-7a9ce1289434",
   "metadata": {},
   "outputs": [
    {
     "name": "stdout",
     "output_type": "stream",
     "text": [
      "Model accuracy: 0.5\n"
     ]
    },
    {
     "name": "stdin",
     "output_type": "stream",
     "text": [
      "Enter Income:  50000\n",
      "Enter Loan Amount:  30000\n",
      "Enter Credit History (1 for good, 0 for bad):  1\n",
      "Enter Gender (Male/Female):  Female\n",
      "Enter Marital Status (Single/Married):  Single\n",
      "Enter Education Level (Graduate/Non-Graduate):  Graduate\n"
     ]
    },
    {
     "name": "stdout",
     "output_type": "stream",
     "text": [
      "Loan Approval Prediction (1: Approved, 0: Rejected): [1]\n"
     ]
    }
   ],
   "source": [
    "import pandas as pd #CASE-STUDY\n",
    "from sklearn.model_selection import train_test_split\n",
    "from sklearn.impute import SimpleImputer\n",
    "from sklearn.preprocessing import StandardScaler, OneHotEncoder\n",
    "from sklearn.compose import ColumnTransformer\n",
    "from sklearn.pipeline import Pipeline\n",
    "from sklearn.ensemble import RandomForestClassifier\n",
    "def input_data():\n",
    "    income = float(input(\"Enter Income: \"))\n",
    "    loan_amount = float(input(\"Enter Loan Amount: \"))\n",
    "    credit_history = int(input(\"Enter Credit History (1 for good, 0 for bad): \"))\n",
    "    gender = input(\"Enter Gender (Male/Female): \")\n",
    "    marital_status = input(\"Enter Marital Status (Single/Married): \")\n",
    "    education = input(\"Enter Education Level (Graduate/Non-Graduate): \")\n",
    "    \n",
    "    data = pd.DataFrame({\n",
    "        'Income': [income],\n",
    "        'Loan_Amount': [loan_amount],\n",
    "        'Credit_History': [credit_history],\n",
    "        'Gender': [gender],\n",
    "        'Marital_Status': [marital_status],\n",
    "        'Education': [education]\n",
    "    })\n",
    "    return data\n",
    "data = pd.DataFrame({\n",
    "    'Income': [50000, 60000, 55000, 45000, 70000],\n",
    "    'Loan_Amount': [100000, 150000, 120000, 90000, 180000],\n",
    "    'Credit_History': [1, 1, 0, 1, 0],\n",
    "    'Gender': ['Male', 'Female', 'Female', 'Male', 'Female'],\n",
    "    'Marital_Status': ['Single', 'Married', 'Married', 'Single', 'Married'],\n",
    "    'Education': ['Graduate', 'Non-Graduate', 'Graduate', 'Non-Graduate', 'Graduate'],\n",
    "    'Loan_Status': [1, 0, 1, 0, 1]\n",
    "})\n",
    "X = data.drop('Loan_Status', axis=1) \n",
    "y = data['Loan_Status'] \n",
    "numerical_features = ['Income', 'Loan_Amount', 'Credit_History']\n",
    "categorical_features = ['Gender', 'Marital_Status', 'Education']\n",
    "numerical_transformer = Pipeline(steps=[\n",
    "    ('imputer', SimpleImputer(strategy='mean')),\n",
    "    ('scaler', StandardScaler())\n",
    "])\n",
    "categorical_transformer = Pipeline(steps=[\n",
    "    ('imputer', SimpleImputer(strategy='most_frequent')),\n",
    "    ('onehot', OneHotEncoder(handle_unknown='ignore'))\n",
    "])\n",
    "preprocessor = ColumnTransformer(\n",
    "    transformers=[\n",
    "        ('num', numerical_transformer, numerical_features),\n",
    "        ('cat', categorical_transformer, categorical_features)\n",
    "    ]\n",
    ")\n",
    "model = Pipeline(steps=[\n",
    "    ('preprocessor', preprocessor),\n",
    "    ('classifier', RandomForestClassifier())\n",
    "])\n",
    "X_train, X_test, y_train, y_test = train_test_split(X, y, test_size=0.3, random_state=42)\n",
    "model.fit(X_train, y_train)\n",
    "accuracy = model.score(X_test, y_test)\n",
    "print(f\"Model accuracy: {accuracy}\")\n",
    "user_data = input_data()\n",
    "prediction = model.predict(user_data)\n",
    "print(\"Loan Approval Prediction (1: Approved, 0: Rejected):\", prediction)\n"
   ]
  },
  {
   "cell_type": "code",
   "execution_count": null,
   "id": "444af7d9-9402-4cbf-81a2-72cb30ca746c",
   "metadata": {},
   "outputs": [],
   "source": []
  }
 ],
 "metadata": {
  "kernelspec": {
   "display_name": "Python [conda env:base] *",
   "language": "python",
   "name": "conda-base-py"
  },
  "language_info": {
   "codemirror_mode": {
    "name": "ipython",
    "version": 3
   },
   "file_extension": ".py",
   "mimetype": "text/x-python",
   "name": "python",
   "nbconvert_exporter": "python",
   "pygments_lexer": "ipython3",
   "version": "3.12.7"
  }
 },
 "nbformat": 4,
 "nbformat_minor": 5
}
